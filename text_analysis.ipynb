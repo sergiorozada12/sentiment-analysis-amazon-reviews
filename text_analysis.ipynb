{
 "cells": [
  {
   "cell_type": "markdown",
   "metadata": {},
   "source": [
    "# Sentiment Analysis: Analyzing Amazon reviews  \n",
    "\n",
    "The task of this coursework is to perform a score and sentiment analysis in a set of reviews from different fine foods products of Amazon. The data consists of ratings of the comments, headers (review summary) and reviews. The dataset also contains different IDs of products and users initially but they are redundant: only score and text will be processed. Our aim is to find a relation between the vocabulary employed in the review and the degree of acceptance of the product.\n"
   ]
  },
  {
   "cell_type": "markdown",
   "metadata": {},
   "source": [
    "The data for analysis is loaded in the environment. Only score, summary and text is preserved. The structure of the data is shown below."
   ]
  },
  {
   "cell_type": "code",
   "execution_count": 1,
   "metadata": {},
   "outputs": [
    {
     "name": "stdout",
     "output_type": "stream",
     "text": [
      "Headers of the dataset:  ['Id', 'ProductId', 'UserId', 'ProfileName', 'HelpfulnessNumerator', 'HelpfulnessDenominator', 'Score', 'Time', 'Summary', 'Text'] \n",
      "\n",
      "Example of the initial dataset:  [['1', 'B001E4KFG0', 'A3SGXH7AUHU8GW', 'delmartian', '1', '1', '5', '1303862400', 'Good Quality Dog Food', 'I have bought several of the Vitality canned dog food products and have found them all to be of good quality. The product looks more like a stew than a processed meat and it smells better. My Labrador is finicky and she appreciates this product better than  most.'], ['2', 'B00813GRG4', 'A1D87F6ZCVE5NK', 'dll pa', '0', '0', '1', '1346976000', 'Not as Advertised', 'Product arrived labeled as Jumbo Salted Peanuts...the peanuts were actually small sized unsalted. Not sure if this was an error or if the vendor intended to represent the product as \"Jumbo\".']] \n",
      "\n",
      "Example of the final dataset:  [('5', 'Good Quality Dog Food', 'I have bought several of the Vitality canned dog food products and have found them all to be of good quality. The product looks more like a stew than a processed meat and it smells better. My Labrador is finicky and she appreciates this product better than  most.')]\n"
     ]
    }
   ],
   "source": [
    "import csv\n",
    "\n",
    "# Path to the Reviews .csv and load to a RDD\n",
    "path = 'hdfs://saltdean/data/reviews/Reviews.csv'\n",
    "raw_data_RDD = sc.textFile(path).mapPartitions(lambda row: csv.reader(row))\n",
    "\n",
    "# Store the headers, filter the first row and extract score, summary and text\n",
    "headers = raw_data_RDD.first()\n",
    "data_RDD = raw_data_RDD.filter(lambda row: row != headers)\n",
    "reviews_RDD = data_RDD.map(lambda row: (row[6],row[8],row[9]))\n",
    "\n",
    "# Print headers and one example\n",
    "print(\"Headers of the dataset: \",headers,\"\\n\")\n",
    "print(\"Example of the initial dataset: \",data_RDD.take(2),\"\\n\")\n",
    "print(\"Example of the final dataset: \",reviews_RDD.take(1))\n"
   ]
  },
  {
   "cell_type": "markdown",
   "metadata": {},
   "source": [
    "## 1) Look inside the dataset\n",
    "\n",
    "Once we have the dataset loaded, it is time to filter out possible missing values. In this particular case, the original dataset is cleaned, but if any pre-filtering operation is needed, it should be applied in the next cell. The final dataset contains roughly half-million reviews and scores. \n",
    "\n",
    "In order to make a deeper analysis in subsequent sections, we preserve the raw score and then, we generate a new sentiment column that labels reviews into positive (4-5 rating), negative (1-2 rating) and neutral(3 rating).\n",
    "\n",
    "After the filtering, downsampling of the dataset have been performed. The classes are clearly imbalanced, the sum of scores 4 and 5 dominates the dataset in a ratio 4:1. As the dataset is big enough as to cut down its size without losing information (theoretically), downsample was the technique selected to solve the imbalancement problem."
   ]
  },
  {
   "cell_type": "code",
   "execution_count": 2,
   "metadata": {
    "pixiedust": {
     "displayParams": {
      "handlerId": "tableView"
     }
    },
    "scrolled": true
   },
   "outputs": [
    {
     "name": "stdout",
     "output_type": "stream",
     "text": [
      "The pre-wrangled size of the dataset is:  568454 \n",
      "\n",
      "The post-wrangled size of the dataset is:  568454 \n",
      "\n",
      "The shape of the dataset previously to the analysis is:  [('five', '5', 'Good Quality Dog Food', 'I have bought several of the Vitality canned dog food products and have found them all to be of good quality. The product looks more like a stew than a processed meat and it smells better. My Labrador is finicky and she appreciates this product better than  most.', 'positive')]\n"
     ]
    }
   ],
   "source": [
    "# Display the initial number of items\n",
    "print(\"The pre-wrangled size of the dataset is: \",reviews_RDD.count(),\"\\n\")\n",
    "\n",
    "# Remove rows which may contain score non-alphanumeric or empty text\n",
    "possibleScores = ['1','2','3','4','5']\n",
    "reviews_RDD_1 = reviews_RDD.filter(lambda row: row[0] in possibleScores)\n",
    "reviews_RDD_2 = reviews_RDD_1.filter(lambda row: row[1] != '')\n",
    "reviews_RDD_filtered = reviews_RDD_2.filter(lambda row: row[2] != '')\n",
    "\n",
    "# Display the initial number of items\n",
    "print(\"The post-wrangled size of the dataset is: \",reviews_RDD_filtered.count(),\"\\n\")\n",
    "\n",
    "# Now add the name of the score for possible visualizations \n",
    "scoreNames = {'1':\"one\",'2':\"two\",'3':\"three\",'4':\"four\",'5':\"five\"}\n",
    "reviews_RDD_scores = reviews_RDD_filtered.map(lambda row: (scoreNames[row[0]],row[0],row[1],row[2]))\n",
    "\n",
    "# Finally add the sentiment: score 1-2 bad, 3 neutral, 4-5 good\n",
    "reviews_RDD_final = reviews_RDD_scores.map(lambda row: (row[0],row[1],row[2],row[3],\"positive\" if row[1] \n",
    "                                                        in ['4','5'] else \"neutral\" if row[1] == '3' else \"negative\"))\n",
    "                                           \n",
    "print(\"The shape of the dataset previously to the analysis is: \",reviews_RDD_final.take(1))\n"
   ]
  },
  {
   "cell_type": "code",
   "execution_count": 3,
   "metadata": {},
   "outputs": [
    {
     "name": "stdout",
     "output_type": "stream",
     "text": [
      "Result after filtering part of the positive labels:  [('one', '1', 'Not as Advertised', 'Product arrived labeled as Jumbo Salted Peanuts...the peanuts were actually small sized unsalted. Not sure if this was an error or if the vendor intended to represent the product as \"Jumbo\".', 'negative')]\n",
      "\n",
      "The size of the dataset after downsampling is:  213083\n"
     ]
    }
   ],
   "source": [
    "import numpy as np\n",
    "\n",
    "# Undersampling of the dataset (scores 4 and 5)\n",
    "reviews_RDD_filtered = reviews_RDD_final.filter(lambda row: (row[4]!=\"positive\") | (np.random.rand(1) > 0.8))\n",
    "\n",
    "# Show the result\n",
    "print(\"Result after filtering part of the positive labels: \",reviews_RDD_filtered.take(1))\n",
    "\n",
    "# Show the dataset after downsampling\n",
    "print(\"\\nThe size of the dataset after downsampling is: \",reviews_RDD_filtered.count())\n"
   ]
  },
  {
   "cell_type": "markdown",
   "metadata": {},
   "source": [
    "## 2) Convert the dataset to a DataFrame\n",
    "\n",
    "After the pre-processing, we will parse the dataset into a Spark DataFrame to carry out the analysis. DataFrames are column-based structures prepared to perform data analysis and create machine learning algorithms in an easier and more comprehensive way. Although the RDD can be used for analysis as well, DataFrames are more structured to apply models and statistical methods smoothly.\n"
   ]
  },
  {
   "cell_type": "code",
   "execution_count": 4,
   "metadata": {
    "pixiedust": {
     "displayParams": {
      "chartsize": "57",
      "handlerId": "barChart",
      "keyFields": "sentiment",
      "sortby": "Keys ASC"
     }
    },
    "scrolled": true
   },
   "outputs": [
    {
     "data": {
      "text/html": [
       "<style type=\"text/css\">.pd_warning{display:none;}</style><div class=\"pd_warning\"><em>Hey, there's something awesome here! To see it, open this notebook outside GitHub, in a viewer like Jupyter</em></div>\n",
       "        <div class=\"pd_save is-viewer-good\" style=\"padding-right:10px;text-align: center;line-height:initial !important;font-size: xx-large;font-weight: 500;color: coral;\">\n",
       "            \n",
       "        </div>\n",
       "    <div id=\"chartFigure469f7fea\" class=\"pd_save is-viewer-good\" style=\"overflow-x:auto\">\n",
       "            \n",
       "                    \n",
       "                            <center><img style=\"max-width:initial !important\" src=\"data:image/png;base64,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\" class=\"pd_save\"></center>\n",
       "                        \n",
       "                    \n",
       "                \n",
       "        </div>"
      ],
      "text/plain": [
       "<IPython.core.display.HTML object>"
      ]
     },
     "metadata": {},
     "output_type": "display_data"
    }
   ],
   "source": [
    "from pyspark.sql.types import *\n",
    "from pyspark.ml.linalg import Vector\n",
    "from pyspark.sql import Row\n",
    "from pyspark.sql import SQLContext\n",
    "import pixiedust\n",
    "\n",
    "sqlContext = SQLContext(sc)\n",
    "\n",
    "# The schema is created for the DataFrame\n",
    "names = ['scoreName','score','summary','text','sentiment']\n",
    "fields = [StructField(field_name, StringType(), True) for field_name in names]\n",
    "schema = StructType(fields)\n",
    "\n",
    "# The dataframe is launched according to the schema created above\n",
    "spark = SparkSession.builder.getOrCreate()\n",
    "reviews_DF = spark.createDataFrame(reviews_RDD_filtered,schema)\n",
    "reviews_DF.createOrReplaceTempView(\"reviews\") \n",
    "\n",
    "# Show a bite of the DataFrame\n",
    "reviews_DF.printSchema() # print the schema\n",
    "SQL1 = \"SELECT scoreName,score,summary,text,sentiment FROM reviews\"\n",
    "reviews_sql = spark.sql(SQL1)\n",
    "reviews_sql.show(5)\n",
    "\n",
    "# Visualize scores with pixidust\n",
    "display(reviews_DF)"
   ]
  },
  {
   "cell_type": "markdown",
   "metadata": {},
   "source": [
    "## 3) Text Processing Pipeline\n",
    "\n",
    "In order to conduct different experiments with the dataframe, we create a text processing pipeline. Text data needs to be transformed into a set of numerical features for the analysis. In this project, we are using TF-IDF transformation, which accounts for a numerical value per word per document that weights the frequency and uniqueness of each word on each document. Then, hashing trick is used to reduce the dimensionality of the problem. Before transforming the words, they are tokenized and stopwords are removed to simplify the task.\n",
    "\n",
    "Once we have a set of numerical features, the model fits the data and it is evaluated. To find the best combination of parameters, different scenarios are tested along the pipeline. Grid searching different combinations allow us to navigate the model to the optimal solution. \n",
    "\n",
    "Accuracy is used as the evaluation metric to measure how well the model is performing. To avoid overfitting, the accuracy is calculated in validation set. Cross-validation is the best vehicle to estimate the generalization performance, but the size of the dataset raises the computational cost of the task. Therefor in this project, we are using the TrainValidationSplit function in pyspark.ml.tuning package."
   ]
  },
  {
   "cell_type": "code",
   "execution_count": 5,
   "metadata": {
    "collapsed": true
   },
   "outputs": [],
   "source": [
    "from pyspark.ml import Pipeline, PipelineModel\n",
    "from pyspark.ml.feature import HashingTF,StopWordsRemover,IDF,Tokenizer\n",
    "from pyspark.ml.tuning import ParamGridBuilder, TrainValidationSplit\n",
    "\n",
    "def setPipeline(model,inputCol):\n",
    "\n",
    "    # Each message is broken into words with the predetermined Tokenizer \n",
    "    tokenizer = Tokenizer().setInputCol(inputCol).setOutputCol(\"words\")\n",
    "    \n",
    "    # Stopwords are removed\n",
    "    remover= StopWordsRemover().setInputCol(\"words\").setOutputCol(\"filteredWords\").setCaseSensitive(False)\n",
    "    \n",
    "    # Now the TF hashing trick is applied on the words of the text\n",
    "    hashingTF = HashingTF().setNumFeatures(1000).setInputCol(\"filteredWords\").setOutputCol(\"rawFeatures\")\n",
    "    \n",
    "    # Now, idf is used to rescale the features\n",
    "    idf = IDF().setInputCol(\"rawFeatures\").setOutputCol(\"features\").setMinDocFreq(0)\n",
    "    \n",
    "    # Pipeline is assemblied here\n",
    "    grid = ParamGridBuilder().addGrid(hashingTF.numFeatures,[100,1000,10000]).addGrid(idf.minDocFreq,[0,10,100])\n",
    "    pipeline = Pipeline(stages=[tokenizer,remover,hashingTF,idf,model]) \n",
    "    return (pipeline,grid)\n",
    "    \n",
    "    \n",
    "def trainPipeline(pipeline,evaluator,data,grid): \n",
    "    \n",
    "    # The validator is built up\n",
    "    validator = TrainValidationSplit().setEstimator(pipeline).setEvaluator(evaluator)\\\n",
    "                                      .setEstimatorParamMaps(grid).setTrainRatio(0.8)\n",
    "        \n",
    "    # Finally train the pipeline and returns\n",
    "    return validator.fit(data)"
   ]
  },
  {
   "cell_type": "markdown",
   "metadata": {},
   "source": [
    "## 4) PCA analysis\n",
    "\n",
    "The first step is to perform a PCA analysis on the dataset and check whether we are able to see any pattern on the data. Sentiment labels are used to see if any group or cluster appears and what kind of structures can the data show. In this case, dimensionality reduction allows us to bring high dimensional data into two dimensions just for the purpose of the visualization."
   ]
  },
  {
   "cell_type": "code",
   "execution_count": 6,
   "metadata": {},
   "outputs": [
    {
     "name": "stdout",
     "output_type": "stream",
     "text": [
      "PCA input: \n",
      "\n",
      "+---------+-----+-----------------+--------------------+---------+\n",
      "|scoreName|score|          summary|                text|sentiment|\n",
      "+---------+-----+-----------------+--------------------+---------+\n",
      "|      one|    1|Not as Advertised|Product arrived l...| negative|\n",
      "+---------+-----+-----------------+--------------------+---------+\n",
      "only showing top 1 row\n",
      "\n",
      "PCA output: \n",
      "\n",
      "+--------------------+--------------------+--------------------+--------------------+--------------------+--------------------+\n",
      "|                text|               words|       filteredWords|         rawFeatures|            features|         pcaFeatures|\n",
      "+--------------------+--------------------+--------------------+--------------------+--------------------+--------------------+\n",
      "|Product arrived l...|[product, arrived...|[product, arrived...|(1000,[121,127,17...|(1000,[121,127,17...|[-1.7005551648711...|\n",
      "+--------------------+--------------------+--------------------+--------------------+--------------------+--------------------+\n",
      "only showing top 1 row\n",
      "\n"
     ]
    }
   ],
   "source": [
    "from pyspark.ml.feature import PCA\n",
    "\n",
    "# Instantiate PCA model\n",
    "pca = PCA(k=2, inputCol=\"features\", outputCol=\"pcaFeatures\")\n",
    "\n",
    "# Obtain the pipeline\n",
    "pipeline,grid = setPipeline(pca,\"text\")\n",
    "\n",
    "# And finally the analysis is performed\n",
    "model = pipeline.fit(reviews_DF.select('text'))\n",
    "transformed_pca = model.transform(reviews_DF.select('text'))\n",
    "\n",
    "# Print some checkvalues\n",
    "print(\"PCA input: \\n\")\n",
    "reviews_DF.show(1)\n",
    "print(\"PCA output: \\n\")\n",
    "transformed_pca.show(1)"
   ]
  },
  {
   "cell_type": "code",
   "execution_count": 7,
   "metadata": {
    "pixiedust": {
     "displayParams": {
      "chartsize": "50",
      "clusterby": "sentiment",
      "handlerId": "scatterPlot",
      "keyFields": "pca1",
      "kind": "scatter",
      "mpld3": "false",
      "rendererId": "seaborn",
      "rowCount": "10000",
      "valueFields": "pca2"
     }
    },
    "scrolled": true
   },
   "outputs": [
    {
     "data": {
      "text/html": [
       "<style type=\"text/css\">.pd_warning{display:none;}</style><div class=\"pd_warning\"><em>Hey, there's something awesome here! To see it, open this notebook outside GitHub, in a viewer like Jupyter</em></div>\n",
       "        <div class=\"pd_save is-viewer-good\" style=\"padding-right:10px;text-align: center;line-height:initial !important;font-size: xx-large;font-weight: 500;color: coral;\">\n",
       "            \n",
       "        </div>\n",
       "    <div id=\"chartFigure9cc92857\" class=\"pd_save is-viewer-good\" style=\"overflow-x:auto\">\n",
       "            \n",
       "                    \n",
       "                            <center><img style=\"max-width:initial !important\" src=\"data:image/png;base64,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\" class=\"pd_save\"></center>\n",
       "                        \n",
       "                    \n",
       "                \n",
       "        </div>"
      ],
      "text/plain": [
       "<IPython.core.display.HTML object>"
      ]
     },
     "metadata": {},
     "output_type": "display_data"
    }
   ],
   "source": [
    "from pyspark.sql.functions import monotonically_increasing_id\n",
    "\n",
    "# Try to plot the PCA projections backing to rdd and recreating the df\n",
    "pca_rdd_raw = transformed_pca.select('pcaFeatures').rdd.map(tuple)\n",
    "pca_rdd = pca_rdd_raw.map(lambda row: (float(row[0][0]),float(row[0][1])))\n",
    "print(\"This is the RDD containing pca features: \",pca_rdd.take(1),\"\\n\")\n",
    "\n",
    "# Once we have the RDD, a new DF is created, again we create an schema\n",
    "names_PCA = [\"pca1\",\"pca2\"]\n",
    "fields_PCA = [StructField(field_name, FloatType(), True) for field_name in names_PCA]\n",
    "schema_PCA = StructType(fields_PCA)\n",
    "\n",
    "# And with the schema, we create the dataset\n",
    "pca_DF = spark.createDataFrame(pca_rdd,schema_PCA)\n",
    "\n",
    "# Add indices to dataframes to join them in column sentiment \n",
    "reviews_DF = reviews_DF.withColumn(\"rowId1\", monotonically_increasing_id())\n",
    "pca_DF = pca_DF.withColumn(\"rowId2\", monotonically_increasing_id())\n",
    "pca_DF_plot = reviews_DF.join(pca_DF, reviews_DF.rowId1 == pca_DF.rowId2, 'inner').select(reviews_DF.sentiment, pca_DF.pca1, pca_DF.pca2)\n",
    "\n",
    "# Print some flavours\n",
    "pca_DF_plot.printSchema() \n",
    "pca_DF_plot.show(5)\n",
    "\n",
    "# Visualize scores with pixidust\n",
    "display(pca_DF_plot)"
   ]
  },
  {
   "cell_type": "markdown",
   "metadata": {},
   "source": [
    "\n",
    "## 5) Create training and test set \n",
    "\n",
    "Training, validation and test set are split. We want to see our model generalizing in unseen cases and thus, data for testing phase must be stored. "
   ]
  },
  {
   "cell_type": "code",
   "execution_count": 8,
   "metadata": {},
   "outputs": [
    {
     "name": "stdout",
     "output_type": "stream",
     "text": [
      "DataFrame for the analysis: \n",
      "+-----+--------------------+--------------------+---------+-----+\n",
      "|score|             summary|                text|sentiment|label|\n",
      "+-----+--------------------+--------------------+---------+-----+\n",
      "|  0.0|   Not as Advertised|Product arrived l...| negative|  0.0|\n",
      "|  1.0|      Cough Medicine|If you are lookin...| negative|  0.0|\n",
      "|  0.0|My Cats Are Not F...|My cats have been...| negative|  0.0|\n",
      "|  1.0|          poor taste|I love eating the...| negative|  0.0|\n",
      "|  4.0|           TWIZZLERS|I bought these fo...| positive|  2.0|\n",
      "+-----+--------------------+--------------------+---------+-----+\n",
      "only showing top 5 rows\n",
      "\n",
      "Training-set count: 170713\n",
      "Test-set count: 42759\n"
     ]
    }
   ],
   "source": [
    "from pyspark.sql.functions import col, when\n",
    "\n",
    "# Just store text, summary, sentiment and label\n",
    "df = reviews_DF.drop('scoreName')\n",
    "df = df.withColumn(\"label\",when(col(\"sentiment\")=='positive',2.0).when(col(\"sentiment\")=='neutral',1.0).otherwise(0.0))\n",
    "df = df.withColumn(\"score\",df[\"score\"].cast(DoubleType())-1)\n",
    "final_df = df.drop('rowId1')\n",
    "print(\"DataFrame for the analysis: \")\n",
    "final_df.show(5)\n",
    "\n",
    "# Data is split in training and test with a 80:20 ratio\n",
    "train_set, test_set = final_df.randomSplit([0.8,0.2])\n",
    "\n",
    "# Training and test set\n",
    "print (\"Training-set count:\", train_set.count() )\n",
    "print (\"Test-set count:\", test_set.count() )"
   ]
  },
  {
   "cell_type": "markdown",
   "metadata": {},
   "source": [
    "Now we prepare datasets downsampled to compare the effect of training models with dataset of different sizes. Initially we are going to train  the best performing model in 0.01% , 0.1% , 1% and 10% of original training set previously prepared. So test set is totally unseen for new trained models. We are training in all possible datasets. However, test sets obtained in this section are not used. The dataset prepared previously will be used to make all experiments comparable between them."
   ]
  },
  {
   "cell_type": "code",
   "execution_count": 9,
   "metadata": {},
   "outputs": [
    {
     "name": "stdout",
     "output_type": "stream",
     "text": [
      "Training-set count of reduced to 0.01%: 15\n",
      "Training-set count of reduced to 0.1%: 183\n",
      "Training-set count of reduced to 1%: 1762\n",
      "Training-set count of reduced to 10%: 17076\n"
     ]
    }
   ],
   "source": [
    "# Datasets of different sizes (TEST SETS NOT USED)\n",
    "train_small_001, test_small_001 = train_set.randomSplit([0.0001,0.99])\n",
    "train_small_01, test_small_01 = train_set.randomSplit([0.001,0.99])\n",
    "train_small_1, test_small_1 = train_set.randomSplit([0.01,0.99])\n",
    "train_small_10, test_small_10 = train_set.randomSplit([0.1,0.9])\n",
    "\n",
    "# Print the number of items in each dataset\n",
    "print (\"Training-set count of reduced to 0.01%:\", train_small_001.count() )\n",
    "print (\"Training-set count of reduced to 0.1%:\", train_small_01.count() )\n",
    "print (\"Training-set count of reduced to 1%:\", train_small_1.count() )\n",
    "print (\"Training-set count of reduced to 10%:\", train_small_10.count() )\n"
   ]
  },
  {
   "cell_type": "markdown",
   "metadata": {},
   "source": [
    "## 6) Classification by score\n",
    "\n",
    "The first set of experiments is create a prediction model to predict the score given by user to a certain product. Initially we expect to see some sort of relation between score and language style, and the model would not perform quite well, as everyone does not rate the same way or are prone to give extreme scores.\n",
    "\n",
    "The analysis will be performed with three different classification algorithms: Naive Bayes, Logistic Regression and Random Forest. Accuracy will be used as the main metric, but further parameters will be investigated in the final models. Performance needs to be deeply evaluated and the following function will be employed to do so.\n",
    "\n",
    "Notice that score is labeled as 1: 0.0, 2: 1.0, 3: 2.0, 4: 3.0 and 5: 4.0. This is due to the fact that data needs to be tailored to the functions used."
   ]
  },
  {
   "cell_type": "code",
   "execution_count": 10,
   "metadata": {
    "collapsed": true
   },
   "outputs": [],
   "source": [
    "from pyspark.mllib.evaluation import MulticlassMetrics\n",
    "from pyspark.ml.classification import LogisticRegression, RandomForestClassifier, NaiveBayes\n",
    "from pyspark.ml.evaluation import MulticlassClassificationEvaluator\n",
    "\n",
    "def evaluatePerformance(model,data,outputCol,possibleLabels):\n",
    "\n",
    "    # Predictions on test set\n",
    "    test_predictions = model.transform(data)\n",
    "\n",
    "    # Show some information of the created dataset\n",
    "    test_predictions.select(\"text\",outputCol,\"prediction\").show(5)\n",
    "\n",
    "    # Parse data into RDD to metrics analysis\n",
    "    test_predictions_rdd = test_predictions.select(outputCol,\"prediction\").rdd.map(lambda row: (row[0],row[1]))\n",
    "    print(test_predictions_rdd.take(4))\n",
    "\n",
    "    # Metrics to analyse the data\n",
    "    metrics = MulticlassMetrics(test_predictions_rdd)\n",
    "\n",
    "    # Summary stats\n",
    "    for label in possibleLabels:\n",
    "        print(\"\\nRecall of label \",label,\" is: \",metrics.recall(label))\n",
    "        print(\"Precision of label \",label,\" is: \",metrics.precision(label))\n",
    "\n",
    "    # Confusion Matrix\n",
    "    confusionMatrix = metrics.confusionMatrix().toArray()\n",
    "    print(\"\\nConfusion Matrix: \\n\")\n",
    "    print(confusionMatrix)"
   ]
  },
  {
   "cell_type": "markdown",
   "metadata": {},
   "source": [
    "**First experiment:** Classification of score using Random Forest on text column"
   ]
  },
  {
   "cell_type": "code",
   "execution_count": 11,
   "metadata": {},
   "outputs": [
    {
     "name": "stdout",
     "output_type": "stream",
     "text": [
      "CPU times: user 8.54 s, sys: 2.39 s, total: 10.9 s\n",
      "Wall time: 58min 41s\n",
      "Accuracy of the best fitted model on training set = 0.4454605482285708\n",
      "Accuracy of the best fitted model on test set = 0.42342786104660707\n",
      "\n",
      "\n",
      "+--------------------+-----+----------+\n",
      "|                text|score|prediction|\n",
      "+--------------------+-----+----------+\n",
      "|We bought a carto...|  0.0|       4.0|\n",
      "|We bought a carto...|  0.0|       4.0|\n",
      "|The new flavor is...|  0.0|       4.0|\n",
      "|These noodles wer...|  0.0|       0.0|\n",
      "|Sunday breakfast ...|  0.0|       2.0|\n",
      "+--------------------+-----+----------+\n",
      "only showing top 5 rows\n",
      "\n",
      "[(0.0, 4.0), (0.0, 4.0), (0.0, 4.0), (0.0, 0.0)]\n",
      "\n",
      "Recall of label  0.0  is:  0.4555661729574773\n",
      "Precision of label  0.0  is:  0.37177112779023297\n",
      "\n",
      "Recall of label  1.0  is:  0.9954128440366973\n",
      "Precision of label  1.0  is:  0.03684836135167261\n",
      "\n",
      "Recall of label  2.0  is:  0.5466531440162272\n",
      "Precision of label  2.0  is:  0.1250725142127857\n",
      "\n",
      "Recall of label  3.0  is:  1.1666666666666667\n",
      "Precision of label  3.0  is:  0.002199183160540371\n",
      "\n",
      "Recall of label  4.0  is:  0.4060303077644118\n",
      "Precision of label  4.0  is:  0.8941103619100041\n",
      "\n",
      "Confusion Matrix: \n",
      "\n",
      "[[3.8140e+03 1.3610e+03 1.4150e+03 4.4500e+02 1.3620e+03]\n",
      " [0.0000e+00 2.1700e+02 0.0000e+00 0.0000e+00 0.0000e+00]\n",
      " [2.2100e+02 2.1500e+02 1.0780e+03 1.5800e+02 2.5500e+02]\n",
      " [0.0000e+00 0.0000e+00 0.0000e+00 5.0000e+00 0.0000e+00]\n",
      " [6.2240e+03 4.0960e+03 6.1260e+03 2.6160e+03 1.2995e+04]]\n"
     ]
    }
   ],
   "source": [
    "# Instantiate Random Forest and train the pipeline\n",
    "rf = RandomForestClassifier(labelCol=\"score\")\n",
    "evaluator = MulticlassClassificationEvaluator().setMetricName(\"accuracy\").setLabelCol(\"score\")\n",
    "\n",
    "# Set pipeline and grid of general parameters. Add the parameters of the model\n",
    "pipeline, paramGrid = setPipeline(rf,\"text\")\n",
    "paramGrid = paramGrid.addGrid(rf.numTrees,[10, 100])\\\n",
    "    .addGrid(rf.maxDepth,[1, 10])\\\n",
    "    .build()\n",
    "    \n",
    "# Finally train the pipeline\n",
    "%time model_rf = trainPipeline(pipeline,evaluator,train_set,paramGrid)\n",
    "print(\"Accuracy of the best fitted model on training set =\",evaluator.evaluate(model_rf.transform(train_set)))\n",
    "print(\"Accuracy of the best fitted model on test set =\",evaluator.evaluate(model_rf.transform(test_set)))\n",
    "print(\"\\n\")\n",
    "\n",
    "# Advanced test\n",
    "possibleLabels = [0.0,1.0,2.0,3.0,4.0]\n",
    "evaluatePerformance(model_rf,test_set,\"score\",possibleLabels)"
   ]
  },
  {
   "cell_type": "markdown",
   "metadata": {},
   "source": [
    "**Second experiment:** Classification of score using Naive Bayes on text column"
   ]
  },
  {
   "cell_type": "code",
   "execution_count": 12,
   "metadata": {},
   "outputs": [
    {
     "name": "stdout",
     "output_type": "stream",
     "text": [
      "CPU times: user 4.23 s, sys: 872 ms, total: 5.1 s\n",
      "Wall time: 7min 56s\n",
      "Accuracy of the best fitted model on training set = 0.5694115583618347\n",
      "Accuracy of the best fitted model on test set = 0.541908400547144\n",
      "\n",
      "\n",
      "+--------------------+-----+----------+\n",
      "|                text|score|prediction|\n",
      "+--------------------+-----+----------+\n",
      "|We bought a carto...|  0.0|       0.0|\n",
      "|We bought a carto...|  0.0|       0.0|\n",
      "|The new flavor is...|  0.0|       0.0|\n",
      "|These noodles wer...|  0.0|       3.0|\n",
      "|Sunday breakfast ...|  0.0|       2.0|\n",
      "+--------------------+-----+----------+\n",
      "only showing top 5 rows\n",
      "\n",
      "[(0.0, 0.0), (0.0, 0.0), (0.0, 0.0), (0.0, 3.0)]\n",
      "\n",
      "Recall of label  0.0  is:  0.626675041876047\n",
      "Precision of label  0.0  is:  0.5834876693634857\n",
      "\n",
      "Recall of label  1.0  is:  0.34743969530258145\n",
      "Precision of label  1.0  is:  0.41823739174732555\n",
      "\n",
      "Recall of label  2.0  is:  0.47427588943261473\n",
      "Precision of label  2.0  is:  0.41605754727926675\n",
      "\n",
      "Recall of label  3.0  is:  0.22540900828115532\n",
      "Precision of label  3.0  is:  0.3422263109475621\n",
      "\n",
      "Recall of label  4.0  is:  0.7450833769535632\n",
      "Precision of label  4.0  is:  0.686084142394822\n",
      "\n",
      "Confusion Matrix: \n",
      "\n",
      "[[ 5986.  1197.  1202.   223.   944.]\n",
      " [ 2111.  2463.  1519.   273.   709.]\n",
      " [ 1056.  1245.  3586.   562.  1063.]\n",
      " [  357.   458.  1244.  1079.  1879.]\n",
      " [  749.   526.  1068.  1021. 10076.]]\n"
     ]
    }
   ],
   "source": [
    "# Instantiate Naive Bayes and train the pipeline\n",
    "nb = NaiveBayes(labelCol=\"score\")\n",
    "evaluator = MulticlassClassificationEvaluator().setMetricName(\"accuracy\").setLabelCol(\"score\")\n",
    "\n",
    "# Set pipeline and grid of general parameters. Add the parameters of the model\n",
    "pipeline, paramGrid = setPipeline(nb,\"text\")\n",
    "paramGrid = paramGrid.addGrid(nb.smoothing,[0.0,0.5,1.0])\\\n",
    "    .build()\n",
    "\n",
    "# Finally train the pipeline\n",
    "%time model_nb = trainPipeline(pipeline,evaluator,train_set,paramGrid)\n",
    "print(\"Accuracy of the best fitted model on training set =\",evaluator.evaluate(model_nb.transform(train_set)))\n",
    "print(\"Accuracy of the best fitted model on test set =\",evaluator.evaluate(model_nb.transform(test_set)))\n",
    "print(\"\\n\")\n",
    "\n",
    "# Advanced test\n",
    "possibleLabels = [0.0,1.0,2.0,3.0,4.0]\n",
    "evaluatePerformance(model_nb,test_set,\"score\",possibleLabels)"
   ]
  },
  {
   "cell_type": "markdown",
   "metadata": {},
   "source": [
    "**Third experiment:** Classification of score using Logistic Regression on text column"
   ]
  },
  {
   "cell_type": "code",
   "execution_count": 14,
   "metadata": {},
   "outputs": [
    {
     "name": "stdout",
     "output_type": "stream",
     "text": [
      "CPU times: user 6.03 s, sys: 1.85 s, total: 7.88 s\n",
      "Wall time: 14min 6s\n",
      "Accuracy of the best fitted model on training set = 0.6874846539689221\n",
      "Accuracy of the best fitted model on test set = 0.6256734818718679\n",
      "\n",
      "\n",
      "+--------------------+-----+----------+\n",
      "|                text|score|prediction|\n",
      "+--------------------+-----+----------+\n",
      "|We bought a carto...|  0.0|       0.0|\n",
      "|We bought a carto...|  0.0|       0.0|\n",
      "|The new flavor is...|  0.0|       0.0|\n",
      "|These noodles wer...|  0.0|       2.0|\n",
      "|Sunday breakfast ...|  0.0|       0.0|\n",
      "+--------------------+-----+----------+\n",
      "only showing top 5 rows\n",
      "\n",
      "[(0.0, 0.0), (0.0, 0.0), (0.0, 0.0), (0.0, 2.0)]\n",
      "\n",
      "Recall of label  0.0  is:  0.669975412075403\n",
      "Precision of label  0.0  is:  0.7171264255775417\n",
      "\n",
      "Recall of label  1.0  is:  0.46549586776859503\n",
      "Precision of label  1.0  is:  0.3825776872134488\n",
      "\n",
      "Recall of label  2.0  is:  0.5434365250779938\n",
      "Precision of label  2.0  is:  0.5254669915303399\n",
      "\n",
      "Recall of label  3.0  is:  0.33608147429679924\n",
      "Precision of label  3.0  is:  0.21415327564894932\n",
      "\n",
      "Recall of label  4.0  is:  0.7270397266125588\n",
      "Precision of label  4.0  is:  0.8230174081237911\n",
      "\n",
      "Confusion Matrix: \n",
      "\n",
      "[[ 7357.  1556.  1145.   213.   723.]\n",
      " [ 1028.  2253.  1013.   181.   349.]\n",
      " [  913.  1273.  4529.   705.   964.]\n",
      " [  123.   159.   462.   660.   685.]\n",
      " [  838.   648.  1470.  1469. 11859.]]\n"
     ]
    }
   ],
   "source": [
    "# Instantiate Logistic Regression and train the pipeline\n",
    "lr = LogisticRegression(labelCol=\"score\")\n",
    "evaluator = MulticlassClassificationEvaluator().setMetricName(\"accuracy\").setLabelCol(\"score\")\n",
    "\n",
    "# Set pipeline and grid of general parameters. Add the parameters of the model\n",
    "pipeline, paramGrid = setPipeline(lr,\"text\")\n",
    "paramGrid = paramGrid.addGrid(lr.elasticNetParam,[0.0, 0.5, 1.0])\\\n",
    "    .build()\n",
    "\n",
    "# Finally train the pipeline\n",
    "%time model_lr = trainPipeline(pipeline,evaluator,train_set,paramGrid)\n",
    "print(\"Accuracy of the best fitted model on training set =\",evaluator.evaluate(model_lr.transform(train_set)))\n",
    "print(\"Accuracy of the best fitted model on test set =\",evaluator.evaluate(model_lr.transform(test_set)))\n",
    "print(\"\\n\")\n",
    "\n",
    "# Advanced test\n",
    "possibleLabels = [0.0,1.0,2.0,3.0,4.0]\n",
    "evaluatePerformance(model_lr,test_set,\"score\",possibleLabels)"
   ]
  },
  {
   "cell_type": "markdown",
   "metadata": {},
   "source": [
    "## 7) Classification by sentiment \n",
    "\n",
    "As seen from the above experiment, performances of the best models are show a certain degree of correlation between the score and review, but not too strong. As it was mentioned previously, guessing the proper score may be tricky. Thus, information is aggregated into sentiments to provide a way of summarizing what is a clearly positive review ( 4 or 5) and what is a negative review (1 and 2) as well as a neutral category (3).\n",
    "\n",
    "Again, performance is evaluated thoroughly and the same three classification algorithms are used. Notice that 'positive' is labelled as 2.0, 'neutral' as 1.0 and 'negative' as 0.0, again for the purpose of the requirements of the techniques used."
   ]
  },
  {
   "cell_type": "markdown",
   "metadata": {},
   "source": [
    "**Fourth experiment:** Classification of sentiment using Random Forest on text column"
   ]
  },
  {
   "cell_type": "code",
   "execution_count": 15,
   "metadata": {},
   "outputs": [
    {
     "name": "stdout",
     "output_type": "stream",
     "text": [
      "CPU times: user 14.4 s, sys: 5.5 s, total: 19.9 s\n",
      "Wall time: 1h 4min 52s\n",
      "Accuracy of the best fitted model on training set = 0.6099812017966632\n",
      "Accuracy of the best fitted model on test set = 0.5990663413718682\n",
      "\n",
      "\n",
      "+--------------------+-----+----------+\n",
      "|                text|label|prediction|\n",
      "+--------------------+-----+----------+\n",
      "|We bought a carto...|  0.0|       0.0|\n",
      "|We bought a carto...|  0.0|       0.0|\n",
      "|The new flavor is...|  0.0|       0.0|\n",
      "|These noodles wer...|  0.0|       2.0|\n",
      "|Sunday breakfast ...|  0.0|       0.0|\n",
      "+--------------------+-----+----------+\n",
      "only showing top 5 rows\n",
      "\n",
      "[(0.0, 0.0), (0.0, 0.0), (0.0, 0.0), (0.0, 2.0)]\n",
      "\n",
      "Recall of label  0.0  is:  0.6970960766141489\n",
      "Precision of label  0.0  is:  0.5589546693088927\n",
      "\n",
      "Recall of label  1.0  is:  1.0\n",
      "Precision of label  1.0  is:  0.005453068801485091\n",
      "\n",
      "Recall of label  2.0  is:  0.5592376954843951\n",
      "Precision of label  2.0  is:  0.927312528064661\n",
      "\n",
      "Confusion Matrix: \n",
      "\n",
      "[[ 9026.  2630.  1302.]\n",
      " [    0.    47.     0.]\n",
      " [ 7122.  5942. 16446.]]\n"
     ]
    }
   ],
   "source": [
    "# Instantiate Random Forest and train the pipeline\n",
    "rf = RandomForestClassifier(labelCol=\"label\")\n",
    "evaluator = MulticlassClassificationEvaluator().setMetricName(\"accuracy\").setLabelCol(\"label\")\n",
    "\n",
    "# Set pipeline and grid of general parameters. Add the parameters of the model\n",
    "pipeline, paramGrid = setPipeline(rf,\"text\")\n",
    "paramGrid = paramGrid.addGrid(rf.numTrees,[10, 100])\\\n",
    "    .addGrid(rf.maxDepth,[1, 10])\\\n",
    "    .build()\n",
    "    \n",
    "# Finally train the pipeline\n",
    "%time model_rf_sentiment = trainPipeline(pipeline,evaluator,train_set,paramGrid)\n",
    "print(\"Accuracy of the best fitted model on training set =\",evaluator.evaluate(model_rf_sentiment.transform(train_set)))\n",
    "print(\"Accuracy of the best fitted model on test set =\",evaluator.evaluate(model_rf_sentiment.transform(test_set)))\n",
    "print(\"\\n\")\n",
    "\n",
    "# Advanced test\n",
    "possibleLabels = [0.0,1.0,2.0]\n",
    "evaluatePerformance(model_rf_sentiment,test_set,\"label\",possibleLabels)"
   ]
  },
  {
   "cell_type": "markdown",
   "metadata": {},
   "source": [
    "**Fifth experiment:** Classification of sentiment using Naive Bayes on text column"
   ]
  },
  {
   "cell_type": "code",
   "execution_count": 16,
   "metadata": {},
   "outputs": [
    {
     "name": "stdout",
     "output_type": "stream",
     "text": [
      "CPU times: user 5.41 s, sys: 1.41 s, total: 6.82 s\n",
      "Wall time: 8min 44s\n",
      "Accuracy of the best fitted model on training set = 0.6941867402927103\n",
      "Accuracy of the best fitted model on test set = 0.6819575471698113\n",
      "\n",
      "\n",
      "+--------------------+-----+----------+\n",
      "|                text|label|prediction|\n",
      "+--------------------+-----+----------+\n",
      "|We bought a carto...|  0.0|       0.0|\n",
      "|We bought a carto...|  0.0|       0.0|\n",
      "|The new flavor is...|  0.0|       0.0|\n",
      "|These noodles wer...|  0.0|       2.0|\n",
      "|Sunday breakfast ...|  0.0|       1.0|\n",
      "+--------------------+-----+----------+\n",
      "only showing top 5 rows\n",
      "\n",
      "[(0.0, 0.0), (0.0, 0.0), (0.0, 0.0), (0.0, 2.0)]\n",
      "\n",
      "Recall of label  0.0  is:  0.7311040486389387\n",
      "Precision of label  0.0  is:  0.6553133514986376\n",
      "\n",
      "Recall of label  1.0  is:  0.4396887159533074\n",
      "Precision of label  1.0  is:  0.5637544958811928\n",
      "\n",
      "Recall of label  2.0  is:  0.7850856606430415\n",
      "Precision of label  2.0  is:  0.7552633064288536\n",
      "\n",
      "Confusion Matrix: \n",
      "\n",
      "[[10582.  2078.  1816.]\n",
      " [ 3707.  4859.  2574.]\n",
      " [ 1859.  1682. 13304.]]\n"
     ]
    }
   ],
   "source": [
    "# Instantiate Naive Bayes and train the pipeline\n",
    "nb = NaiveBayes(labelCol=\"label\")\n",
    "evaluator = MulticlassClassificationEvaluator().setMetricName(\"accuracy\").setLabelCol(\"label\")\n",
    "\n",
    "# Set pipeline and grid of general parameters. Add the parameters of the model\n",
    "pipeline, paramGrid = setPipeline(nb,\"text\")\n",
    "paramGrid = paramGrid.addGrid(nb.smoothing,[0.0,0.5,1.0])\\\n",
    "    .build()\n",
    "\n",
    "# Finally train the pipeline\n",
    "%time model_nb_sentiment = trainPipeline(pipeline,evaluator,train_set,paramGrid)\n",
    "print(\"Accuracy of the best fitted model on training set =\",evaluator.evaluate(model_nb_sentiment.transform(train_set)))\n",
    "print(\"Accuracy of the best fitted model on test set =\",evaluator.evaluate(model_nb_sentiment.transform(test_set)))\n",
    "print(\"\\n\")\n",
    "\n",
    "# Advanced test\n",
    "possibleLabels = [0.0,1.0,2.0]\n",
    "evaluatePerformance(model_nb_sentiment,test_set,\"label\",possibleLabels)"
   ]
  },
  {
   "cell_type": "markdown",
   "metadata": {},
   "source": [
    "**Sixth experiment:** Classification of sentiment using Logistic Regression on text column"
   ]
  },
  {
   "cell_type": "code",
   "execution_count": 17,
   "metadata": {},
   "outputs": [
    {
     "name": "stdout",
     "output_type": "stream",
     "text": [
      "CPU times: user 8.3 s, sys: 2.35 s, total: 10.7 s\n",
      "Wall time: 13min 23s\n",
      "Accuracy of the best fitted model on training set = 0.7738628335892481\n",
      "Accuracy of the best fitted model on test set = 0.7403932292894526\n",
      "\n",
      "\n",
      "+--------------------+-----+----------+\n",
      "|                text|label|prediction|\n",
      "+--------------------+-----+----------+\n",
      "|We bought a carto...|  0.0|       0.0|\n",
      "|We bought a carto...|  0.0|       0.0|\n",
      "|The new flavor is...|  0.0|       0.0|\n",
      "|These noodles wer...|  0.0|       2.0|\n",
      "|Sunday breakfast ...|  0.0|       1.0|\n",
      "+--------------------+-----+----------+\n",
      "only showing top 5 rows\n",
      "\n",
      "[(0.0, 0.0), (0.0, 0.0), (0.0, 0.0), (0.0, 2.0)]\n",
      "\n",
      "Recall of label  0.0  is:  0.7472533928676341\n",
      "Precision of label  0.0  is:  0.7876517215754273\n",
      "\n",
      "Recall of label  1.0  is:  0.5815549917922698\n",
      "Precision of label  1.0  is:  0.45214061956143403\n",
      "\n",
      "Recall of label  2.0  is:  0.7830253613596654\n",
      "Precision of label  2.0  is:  0.8312629981451296\n",
      "\n",
      "Confusion Matrix: \n",
      "\n",
      "[[12719.  2561.  1739.]\n",
      " [ 1569.  3897.  1261.]\n",
      " [ 1860.  2161. 14800.]]\n"
     ]
    }
   ],
   "source": [
    "# Instantiate Logistic Regression and train the pipeline\n",
    "lr = LogisticRegression(labelCol=\"label\")\n",
    "evaluator = MulticlassClassificationEvaluator().setMetricName(\"accuracy\").setLabelCol(\"label\")\n",
    "\n",
    "# Set pipeline and grid of general parameters. Add the parameters of the model\n",
    "pipeline, paramGrid = setPipeline(lr,\"text\")\n",
    "paramGrid = paramGrid.addGrid(lr.elasticNetParam,[0.0, 0.5, 1.0])\\\n",
    "    .build()\n",
    "\n",
    "# Finally train the pipeline\n",
    "%time model_lr_sentiment = trainPipeline(pipeline,evaluator,train_set,paramGrid)\n",
    "print(\"Accuracy of the best fitted model on training set =\",evaluator.evaluate(model_lr_sentiment.transform(train_set)))\n",
    "print(\"Accuracy of the best fitted model on test set =\",evaluator.evaluate(model_lr_sentiment.transform(test_set)))\n",
    "print(\"\\n\")\n",
    "\n",
    "# Advanced test\n",
    "possibleLabels = [0.0,1.0,2.0]\n",
    "evaluatePerformance(model_lr_sentiment,test_set,\"label\",possibleLabels)"
   ]
  },
  {
   "cell_type": "markdown",
   "metadata": {},
   "source": [
    "## 8) Comparison of models downsampled\n",
    "\n",
    "The best approach (Logistic Regression) is compared with the models trained with less data to show how the models perform when feeded with less data. We want to see how the behaviour of the models change with different amount of data used in training.\n",
    "\n",
    "Ideally, if a smaller amount of data is representative enough, adding more data will not improve the global performance of the model. However, in practice the latter case seems to be the correct one. We will see if that applies to our dataset. The analysis is performed in the best model obtained up to now.\n",
    "\n",
    "P.S. Test set is the same for all the experiments, although training set is downsampled\n",
    "\n",
    "**Seventh experiment:** Classification of sentiment using Logistic Regression on text column (downsampled dataset 0.01%)"
   ]
  },
  {
   "cell_type": "code",
   "execution_count": 11,
   "metadata": {},
   "outputs": [
    {
     "name": "stdout",
     "output_type": "stream",
     "text": [
      "CPU times: user 3.46 s, sys: 892 ms, total: 4.35 s\n",
      "Wall time: 55.1 s\n",
      "Accuracy of the best fitted model on training set = 0.7333333333333333\n",
      "Accuracy of the best fitted model on test set = 0.39596404157692666\n",
      "\n",
      "\n",
      "+--------------------+-----+----------+\n",
      "|                text|label|prediction|\n",
      "+--------------------+-----+----------+\n",
      "|I hate to rag on ...|  0.0|       2.0|\n",
      "|Here is the MIO P...|  0.0|       2.0|\n",
      "|We bought a carto...|  0.0|       2.0|\n",
      "|We bought a carto...|  0.0|       2.0|\n",
      "|\"Peculiar Taste\" ...|  0.0|       0.0|\n",
      "+--------------------+-----+----------+\n",
      "only showing top 5 rows\n",
      "\n",
      "[(0.0, 2.0), (0.0, 2.0), (0.0, 2.0), (0.0, 2.0)]\n",
      "\n",
      "Recall of label  0.0  is:  0.3904671946523287\n",
      "Precision of label  0.0  is:  0.3262704146682047\n",
      "\n",
      "Recall of label  1.0  is:  0.19129287598944592\n",
      "Precision of label  1.0  is:  0.016990860089055544\n",
      "\n",
      "Recall of label  2.0  is:  0.40531714762361126\n",
      "Precision of label  2.0  is:  0.6393617021276595\n",
      "\n",
      "Confusion Matrix: \n",
      "\n",
      "[[ 5374.  2487.  5926.]\n",
      " [  292.   145.   319.]\n",
      " [10805.  5902. 11421.]]\n"
     ]
    }
   ],
   "source": [
    "# Instantiate Logistic Regressor and train the pipeline\n",
    "lr = LogisticRegression(labelCol=\"label\")\n",
    "evaluator = MulticlassClassificationEvaluator().setMetricName(\"accuracy\").setLabelCol(\"label\")\n",
    "\n",
    "# Set pipeline and grid of general parameters. Add the parameters of the model\n",
    "pipeline, paramGrid = setPipeline(lr,\"text\")\n",
    "paramGrid = paramGrid.addGrid(lr.elasticNetParam,[0.0, 0.5, 1.0])\\\n",
    "    .build()\n",
    "\n",
    "# Finally train the pipeline\n",
    "%time model_lr_small_001 = trainPipeline(pipeline,evaluator,train_small_001,paramGrid)\n",
    "print(\"Accuracy of the best fitted model on training set =\",evaluator.evaluate(model_lr_small_001.transform(train_small_001)))\n",
    "print(\"Accuracy of the best fitted model on test set =\",evaluator.evaluate(model_lr_small_001.transform(test_set)))\n",
    "print(\"\\n\")\n",
    "\n",
    "# Advanced test\n",
    "possibleLabels = [0.0,1.0,2.0]\n",
    "evaluatePerformance(model_lr_small_001,test_set,\"label\",possibleLabels)"
   ]
  },
  {
   "cell_type": "markdown",
   "metadata": {},
   "source": [
    "**Eigth experiment:** Classification of sentiment using Logistic Regression on text column (downsampled dataset 0.1%)"
   ]
  },
  {
   "cell_type": "code",
   "execution_count": 12,
   "metadata": {},
   "outputs": [
    {
     "name": "stdout",
     "output_type": "stream",
     "text": [
      "CPU times: user 3.45 s, sys: 992 ms, total: 4.44 s\n",
      "Wall time: 1min 3s\n",
      "Accuracy of the best fitted model on training set = 0.8695652173913043\n",
      "Accuracy of the best fitted model on test set = 0.47957558439124937\n",
      "\n",
      "\n",
      "+--------------------+-----+----------+\n",
      "|                text|label|prediction|\n",
      "+--------------------+-----+----------+\n",
      "|I hate to rag on ...|  0.0|       0.0|\n",
      "|Here is the MIO P...|  0.0|       0.0|\n",
      "|We bought a carto...|  0.0|       0.0|\n",
      "|We bought a carto...|  0.0|       0.0|\n",
      "|\"Peculiar Taste\" ...|  0.0|       1.0|\n",
      "+--------------------+-----+----------+\n",
      "only showing top 5 rows\n",
      "\n",
      "[(0.0, 0.0), (0.0, 0.0), (0.0, 0.0), (0.0, 0.0)]\n",
      "\n",
      "Recall of label  0.0  is:  0.5056383042875233\n",
      "Precision of label  0.0  is:  0.5090765588003157\n",
      "\n",
      "Recall of label  1.0  is:  0.2496215306980656\n",
      "Precision of label  1.0  is:  0.17389266463557534\n",
      "\n",
      "Recall of label  2.0  is:  0.531029689206633\n",
      "Precision of label  2.0  is:  0.6031692325043704\n",
      "\n",
      "Confusion Matrix: \n",
      "\n",
      "[[ 8385.  3181.  5146.]\n",
      " [ 2365.  1484.  1999.]\n",
      " [ 5721.  3869. 10540.]]\n"
     ]
    }
   ],
   "source": [
    "# Instantiate Logistic Regressor and train the pipeline\n",
    "lr = LogisticRegression(labelCol=\"label\")\n",
    "evaluator = MulticlassClassificationEvaluator().setMetricName(\"accuracy\").setLabelCol(\"label\")\n",
    "\n",
    "# Set pipeline and grid of general parameters. Add the parameters of the model\n",
    "pipeline, paramGrid = setPipeline(lr,\"text\")\n",
    "paramGrid = paramGrid.addGrid(lr.elasticNetParam,[0.0, 0.5, 1.0])\\\n",
    "    .build()\n",
    "\n",
    "# Finally train the pipeline\n",
    "%time model_lr_small_01 = trainPipeline(pipeline,evaluator,train_small_01,paramGrid)\n",
    "print(\"Accuracy of the best fitted model on training set =\",evaluator.evaluate(model_lr_small_01.transform(train_small_01)))\n",
    "print(\"Accuracy of the best fitted model on test set =\",evaluator.evaluate(model_lr_small_01.transform(test_set)))\n",
    "print(\"\\n\")\n",
    "\n",
    "# Advanced test\n",
    "possibleLabels = [0.0,1.0,2.0]\n",
    "evaluatePerformance(model_lr_small_01,test_set,\"label\",possibleLabels)"
   ]
  },
  {
   "cell_type": "markdown",
   "metadata": {},
   "source": [
    "**Ninth experiment:** Classification of sentiment using Logistic Regression on text column (downsampled dataset 1%)"
   ]
  },
  {
   "cell_type": "code",
   "execution_count": 13,
   "metadata": {},
   "outputs": [
    {
     "name": "stdout",
     "output_type": "stream",
     "text": [
      "CPU times: user 3.6 s, sys: 992 ms, total: 4.6 s\n",
      "Wall time: 1min 15s\n",
      "Accuracy of the best fitted model on training set = 0.8577903682719547\n",
      "Accuracy of the best fitted model on test set = 0.5664706020200126\n",
      "\n",
      "\n",
      "+--------------------+-----+----------+\n",
      "|                text|label|prediction|\n",
      "+--------------------+-----+----------+\n",
      "|I hate to rag on ...|  0.0|       2.0|\n",
      "|Here is the MIO P...|  0.0|       1.0|\n",
      "|We bought a carto...|  0.0|       1.0|\n",
      "|We bought a carto...|  0.0|       1.0|\n",
      "|\"Peculiar Taste\" ...|  0.0|       0.0|\n",
      "+--------------------+-----+----------+\n",
      "only showing top 5 rows\n",
      "\n",
      "[(0.0, 2.0), (0.0, 1.0), (0.0, 1.0), (0.0, 1.0)]\n",
      "\n",
      "Recall of label  0.0  is:  0.5915269196822595\n",
      "Precision of label  0.0  is:  0.6103454556493231\n",
      "\n",
      "Recall of label  1.0  is:  0.3136334196891192\n",
      "Precision of label  1.0  is:  0.2269744551206937\n",
      "\n",
      "Recall of label  2.0  is:  0.6258117298154113\n",
      "Precision of label  2.0  is:  0.6933099189939387\n",
      "\n",
      "Confusion Matrix: \n",
      "\n",
      "[[10053.  3425.  3554.]\n",
      " [ 2306.  1937.  2038.]\n",
      " [ 4112.  3172. 12075.]]\n"
     ]
    }
   ],
   "source": [
    "# Instantiate Logistic Regressor and train the pipeline\n",
    "lr = LogisticRegression(labelCol=\"label\")\n",
    "evaluator = MulticlassClassificationEvaluator().setMetricName(\"accuracy\").setLabelCol(\"label\")\n",
    "\n",
    "# Set pipeline and grid of general parameters. Add the parameters of the model\n",
    "pipeline, paramGrid = setPipeline(lr,\"text\")\n",
    "paramGrid = paramGrid.addGrid(lr.elasticNetParam,[0.0, 0.5, 1.0])\\\n",
    "    .build()\n",
    "\n",
    "# Finally train the pipeline\n",
    "%time model_lr_small_1 = trainPipeline(pipeline,evaluator,train_small_1,paramGrid)\n",
    "print(\"Accuracy of the best fitted model on training set =\",evaluator.evaluate(model_lr_small_1.transform(train_small_1)))\n",
    "print(\"Accuracy of the best fitted model on test set =\",evaluator.evaluate(model_lr_small_1.transform(test_set)))\n",
    "print(\"\\n\")\n",
    "\n",
    "# Advanced test\n",
    "possibleLabels = [0.0,1.0,2.0]\n",
    "evaluatePerformance(model_lr_small_1,test_set,\"label\",possibleLabels)"
   ]
  },
  {
   "cell_type": "markdown",
   "metadata": {},
   "source": [
    "**Tenth experiment:** Classification of sentiment using Logistic Regression on text column (downsampled dataset 10%)"
   ]
  },
  {
   "cell_type": "code",
   "execution_count": 14,
   "metadata": {},
   "outputs": [
    {
     "name": "stdout",
     "output_type": "stream",
     "text": [
      "CPU times: user 3.94 s, sys: 1.06 s, total: 5 s\n",
      "Wall time: 2min 14s\n",
      "Accuracy of the best fitted model on training set = 0.7161774184097967\n",
      "Accuracy of the best fitted model on test set = 0.660505927377952\n",
      "\n",
      "\n",
      "+--------------------+-----+----------+\n",
      "|                text|label|prediction|\n",
      "+--------------------+-----+----------+\n",
      "|I hate to rag on ...|  0.0|       0.0|\n",
      "|Here is the MIO P...|  0.0|       0.0|\n",
      "|We bought a carto...|  0.0|       0.0|\n",
      "|We bought a carto...|  0.0|       0.0|\n",
      "|\"Peculiar Taste\" ...|  0.0|       0.0|\n",
      "+--------------------+-----+----------+\n",
      "only showing top 5 rows\n",
      "\n",
      "[(0.0, 0.0), (0.0, 0.0), (0.0, 0.0), (0.0, 0.0)]\n",
      "\n",
      "Recall of label  0.0  is:  0.6792507371220443\n",
      "Precision of label  0.0  is:  0.7133143099993928\n",
      "\n",
      "Recall of label  1.0  is:  0.45631837640716666\n",
      "Precision of label  1.0  is:  0.3372392781813921\n",
      "\n",
      "Recall of label  2.0  is:  0.716345145732858\n",
      "Precision of label  2.0  is:  0.770988490182803\n",
      "\n",
      "Confusion Matrix: \n",
      "\n",
      "[[11749.  2990.  2565.]\n",
      " [ 1934.  2878.  1477.]\n",
      " [ 2788.  2666. 13607.]]\n"
     ]
    }
   ],
   "source": [
    "# Instantiate Logistic Regressor and train the pipeline\n",
    "lr = LogisticRegression(labelCol=\"label\")\n",
    "evaluator = MulticlassClassificationEvaluator().setMetricName(\"accuracy\").setLabelCol(\"label\")\n",
    "\n",
    "# Set pipeline and grid of general parameters. Add the parameters of the model\n",
    "pipeline, paramGrid = setPipeline(lr,\"text\")\n",
    "paramGrid = paramGrid.addGrid(lr.elasticNetParam,[0.0, 0.5, 1.0])\\\n",
    "    .build()\n",
    "\n",
    "# Finally train the pipeline\n",
    "%time model_lr_small_10 = trainPipeline(pipeline,evaluator,train_small_10,paramGrid)\n",
    "print(\"Accuracy of the best fitted model on training set =\",evaluator.evaluate(model_lr_small_10.transform(train_small_10)))\n",
    "print(\"Accuracy of the best fitted model on test set =\",evaluator.evaluate(model_lr_small_10.transform(test_set)))\n",
    "print(\"\\n\")\n",
    "\n",
    "# Advanced test\n",
    "possibleLabels = [0.0,1.0,2.0]\n",
    "evaluatePerformance(model_lr_small_10,test_set,\"label\",possibleLabels)"
   ]
  },
  {
   "cell_type": "markdown",
   "metadata": {},
   "source": [
    "Accuracies of the downsampled experiments are gathered here"
   ]
  },
  {
   "cell_type": "code",
   "execution_count": 21,
   "metadata": {},
   "outputs": [
    {
     "data": {
      "text/plain": [
       "<matplotlib.text.Text at 0x7f4a701e3b70>"
      ]
     },
     "execution_count": 21,
     "metadata": {},
     "output_type": "execute_result"
    },
    {
     "data": {
      "image/png": "[encoded data removed]",
      "text/plain": [
       "<matplotlib.figure.Figure at 0x7f4a70214ba8>"
      ]
     },
     "metadata": {},
     "output_type": "display_data"
    }
   ],
   "source": [
    "## import matplotlib.pyplot as plt\n",
    "\n",
    "# Gather train size, accuracies and times\n",
    "train_size = [15,183,1762,17076,170713]\n",
    "accuracies = [0.39,0.47,0.56,0.66,0.74]\n",
    "\n",
    "# Plot accuracies\n",
    "plt.figure()\n",
    "plt.title(\"Accuracy\")\n",
    "plt.plot(train_size,accuracies)\n",
    "plt.xlabel(\"train set size\")\n",
    "plt.ylabel(\"accuracy\")"
   ]
  },
  {
   "cell_type": "markdown",
   "metadata": {},
   "source": [
    "## 9) Effect of classification on summary\n",
    "\n",
    "The last experiment consists of analyzing the summary instead of the whole text. Summary is supposed to condense the information about user's degree of acceptability of the product. Thus, if a model fitted to the summary works well, the computational complexity of the model will go down, as long as the system is processing a considerable less amount of words. Again, the technique is applied over the best performing model: Logistic Regression on sentiment analysis.\n",
    "\n",
    "**Eleventh experiment:** Classification of sentiment using Logistic Regression on summary column"
   ]
  },
  {
   "cell_type": "code",
   "execution_count": 15,
   "metadata": {},
   "outputs": [
    {
     "name": "stdout",
     "output_type": "stream",
     "text": [
      "CPU times: user 4 s, sys: 1.19 s, total: 5.19 s\n",
      "Wall time: 2min 59s\n",
      "Accuracy of the best fitted model on training set = 0.7270582587926755\n",
      "Accuracy of the best fitted model on test set = 0.6924997666386633\n",
      "\n",
      "\n",
      "+--------------------+-----+----------+\n",
      "|                text|label|prediction|\n",
      "+--------------------+-----+----------+\n",
      "|I hate to rag on ...|  0.0|       0.0|\n",
      "|Here is the MIO P...|  0.0|       0.0|\n",
      "|We bought a carto...|  0.0|       0.0|\n",
      "|We bought a carto...|  0.0|       0.0|\n",
      "|\"Peculiar Taste\" ...|  0.0|       2.0|\n",
      "+--------------------+-----+----------+\n",
      "only showing top 5 rows\n",
      "\n",
      "[(0.0, 0.0), (0.0, 0.0), (0.0, 0.0), (0.0, 0.0)]\n",
      "\n",
      "Recall of label  0.0  is:  0.6995495495495495\n",
      "Precision of label  0.0  is:  0.7542954283285775\n",
      "\n",
      "Recall of label  1.0  is:  0.5496868122566446\n",
      "Precision of label  1.0  is:  0.3804780876494024\n",
      "\n",
      "Recall of label  2.0  is:  0.7353805774278215\n",
      "Precision of label  2.0  is:  0.7898624267027514\n",
      "\n",
      "Confusion Matrix: \n",
      "\n",
      "[[12424.  2839.  2536.]\n",
      " [ 1440.  3247.  1158.]\n",
      " [ 2607.  2448. 14046.]]\n"
     ]
    }
   ],
   "source": [
    "# Instantiate Logistic Regression and train the pipeline\n",
    "lr = LogisticRegression(labelCol=\"label\")\n",
    "evaluator = MulticlassClassificationEvaluator().setMetricName(\"accuracy\").setLabelCol(\"label\")\n",
    "\n",
    "# Set pipeline and grid of general parameters. Add the parameters of the model\n",
    "pipeline, paramGrid = setPipeline(lr,\"summary\")\n",
    "paramGrid = paramGrid.addGrid(lr.elasticNetParam,[0.0, 0.5, 1.0])\\\n",
    "    .build()\n",
    "\n",
    "# Finally train the pipeline\n",
    "%time model_lr_summary = trainPipeline(pipeline,evaluator,train_set,paramGrid)\n",
    "print(\"Accuracy of the best fitted model on training set =\",evaluator.evaluate(model_lr_summary.transform(train_set)))\n",
    "print(\"Accuracy of the best fitted model on test set =\",evaluator.evaluate(model_lr_summary.transform(test_set)))\n",
    "print(\"\\n\")\n",
    "\n",
    "# Advanced test\n",
    "possibleLabels = [0.0,1.0,2.0]\n",
    "evaluatePerformance(model_lr_summary,test_set,\"label\",possibleLabels)"
   ]
  },
  {
   "cell_type": "markdown",
   "metadata": {},
   "source": [
    "## 10) Conclusions\n",
    "\n",
    "1) First of all, the comparison between the three models in score classificaton is interesting. Although Random Forest is the more complex model and it should be able of capturing more complex patterns, it does a really poor job in comparison with more simple and linear approaches such as Logistic Regression and Naive Bayes (42% vs 62% and 54% respectively in test set). However, not only accuracy is the only aspect to check. Training time is significantly longer with Random Forest (58 min vs 7 min and 14 min respectively). Thus, the size effect starts to become significant: when data increases, simple models would still work surprisingly good, sometimes even outperform more complex models. In the case of this project, Logistic Regression is the best performing model.\n",
    "\n",
    "2) Another interesting point of the score classification can be seen in the confusion matrix. Precision and recall is higher in both extreme scores: 1 and 5. One possible explanation is the fact that extremely good or bad reviews (and vocabulary) is translated into the best or worse possible score. Central scores would be related with more vague and abstract use of the language. This is one of the reasons why it was decided to summarize scores into sentiments. Negative and positive vocabulary will be more distinguishable.\n",
    "\n",
    "3) The sentiment analysis performs better than predicting rating in terms of accuracies of the three models. The best performing model (Logistic Regression) scores a decent degree of accuracy: 74% in test set. This means 12 more points compared with the score prediction. Again, prediction of positive and negative values is better than the neutral ones. Indeed, precision of positive and negative labels is nearly 80%.\n",
    "\n",
    "4) Regarding the downsampled experiments some insights can be obtained. Downsampled dataset are roughly 0.01%, 0.1%, 1% and 10% of the training dataset. It can be seen the instability of the model trained in the smallest downsampled datasets: training accuracy is almost the same (or even better) as the total model but the generalization to test examples fails dramatically. These datasets are clearly too small to map decently the reviews space. If we use the 10% downsampled dataset it can be seen more stable results: training are test accuracies are similar. However, these accuracies are almost 8 points below the accuracy obtained by the model in the full dataset (66% vs 74% in test set). Theoretically, if the dataset is representative, more data is not needed. But from this experiment it shows that in practice more data can lead to better results.\n",
    "\n",
    "5) It is interesting to take a look at training times in downsampled models. Although the increasing of time between 10% downsampled dataset and the full dataset seems to be linear (from 2 min 14 s to 14 min), this does not apply to the smallest downsampled datasets. Training times of all downsampled models are very similar. Distributed systems reduce computation times but there is a minimum computation cost to pay: parallel computation is designed to solve large data problems.\n",
    "\n",
    "6) Finally, sentiment classification is tried in the summary of the review. Although the comparison is a bit poorer in terms of accuracy (69% vs 74% using the whole text review), training time is reduced dramatically. We are processing less amount of data and thus, for some situations, it can be effective."
   ]
  }
 ],
 "metadata": {
  "kernelspec": {
   "display_name": "PySpark",
   "language": "python",
   "name": "pyspark"
  },
  "language_info": {
   "codemirror_mode": {
    "name": "ipython",
    "version": 3
   },
   "file_extension": ".py",
   "mimetype": "text/x-python",
   "name": "python",
   "nbconvert_exporter": "python",
   "pygments_lexer": "ipython3",
   "version": "3.5.2"
  }
 },
 "nbformat": 4,
 "nbformat_minor": 1
}
